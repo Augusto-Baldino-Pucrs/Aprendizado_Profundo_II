{
 "cells": [
  {
   "cell_type": "code",
   "execution_count": 1,
   "id": "aefbf778",
   "metadata": {},
   "outputs": [],
   "source": [
    "import torch"
   ]
  },
  {
   "cell_type": "code",
   "execution_count": null,
   "id": "a0711c60",
   "metadata": {},
   "outputs": [],
   "source": [
    "x= torch.tensor([3,4,5])\n",
    "y = torch.tensor(4)\n",
    "x"
   ]
  },
  {
   "cell_type": "code",
   "execution_count": null,
   "id": "52f56259",
   "metadata": {},
   "outputs": [],
   "source": [
    "x * y"
   ]
  },
  {
   "cell_type": "code",
   "execution_count": null,
   "id": "b7ffbc59",
   "metadata": {},
   "outputs": [],
   "source": [
    "print(x.shape)\n",
    "print(x.ndim)"
   ]
  },
  {
   "cell_type": "code",
   "execution_count": 2,
   "id": "f6603eb8",
   "metadata": {},
   "outputs": [
    {
     "name": "stdout",
     "output_type": "stream",
     "text": [
      "tensor([[ 0.5970,  1.2189,  0.6965],\n",
      "        [ 1.6915, -1.8977, -0.4125]])\n",
      "tensor([[ 1.5256],\n",
      "        [ 0.4357],\n",
      "        [-0.7974]])\n"
     ]
    }
   ],
   "source": [
    "a = torch.randn(2,3)\n",
    "b = torch.randn(3,1)\n",
    "print(a)\n",
    "print(b)"
   ]
  },
  {
   "cell_type": "code",
   "execution_count": 3,
   "id": "6ceff3ae",
   "metadata": {},
   "outputs": [
    {
     "data": {
      "text/plain": [
       "tensor([[0.8864],\n",
       "        [2.0826]])"
      ]
     },
     "execution_count": 3,
     "metadata": {},
     "output_type": "execute_result"
    }
   ],
   "source": [
    "torch.matmul(a,b)"
   ]
  },
  {
   "cell_type": "code",
   "execution_count": 7,
   "id": "47a3dcd5",
   "metadata": {},
   "outputs": [
    {
     "data": {
      "text/plain": [
       "tensor(2.)"
      ]
     },
     "execution_count": 7,
     "metadata": {},
     "output_type": "execute_result"
    }
   ],
   "source": [
    "x = torch.tensor(4.0,requires_grad=True)\n",
    "constante = torch.tensor(2.0)\n",
    "y = x * constante\n",
    "y.backward()\n",
    "x.grad"
   ]
  },
  {
   "cell_type": "code",
   "execution_count": 10,
   "id": "fce07ae6",
   "metadata": {},
   "outputs": [],
   "source": [
    "linear = torch.nn.Linear(in_features=2,out_features=4)"
   ]
  },
  {
   "cell_type": "code",
   "execution_count": 12,
   "id": "de9a8bc2",
   "metadata": {},
   "outputs": [
    {
     "data": {
      "text/plain": [
       "Parameter containing:\n",
       "tensor([0.2330, 0.6886, 0.0357, 0.4625], requires_grad=True)"
      ]
     },
     "execution_count": 12,
     "metadata": {},
     "output_type": "execute_result"
    }
   ],
   "source": [
    "linear.bias"
   ]
  },
  {
   "cell_type": "code",
   "execution_count": 14,
   "id": "35ba4f66",
   "metadata": {},
   "outputs": [],
   "source": [
    "X = torch.randn(500,1)\n",
    "y = X * 10 + 2 + torch.randn(500,1)*3"
   ]
  },
  {
   "cell_type": "code",
   "execution_count": 18,
   "id": "f7430eaf",
   "metadata": {},
   "outputs": [
    {
     "data": {
      "text/plain": [
       "[<matplotlib.lines.Line2D at 0x7f1c9c11c8e0>]"
      ]
     },
     "execution_count": 18,
     "metadata": {},
     "output_type": "execute_result"
    },
    {
     "data": {
      "image/png": "[encoded data removed]",
      "text/plain": [
       "<Figure size 640x480 with 1 Axes>"
      ]
     },
     "metadata": {},
     "output_type": "display_data"
    }
   ],
   "source": [
    "import matplotlib.pyplot as plt\n",
    "plt.scatter(X,y)\n",
    "linear_regression = torch.nn.Linear(in_features=1,out_features=1)\n",
    "X_limits = torch.tensor([[-3.0],[3.0]])\n",
    "plt.plot(X_limits,linear_regression(X_limits).detach(),color='red')"
   ]
  },
  {
   "cell_type": "code",
   "execution_count": 20,
   "id": "ebe30351",
   "metadata": {},
   "outputs": [
    {
     "name": "stdout",
     "output_type": "stream",
     "text": [
      "tensor(136.7925, grad_fn=<MeanBackward0>)\n",
      "tensor(136.7925, grad_fn=<MeanBackward0>)\n"
     ]
    }
   ],
   "source": [
    "for i in range(2):\n",
    "    y_hat = linear_regression(X)\n",
    "    loss = torch.mean((y_hat-y)**2)\n",
    "    print(loss)\n",
    "    "
   ]
  }
 ],
 "metadata": {
  "kernelspec": {
   "display_name": "Python 3",
   "language": "python",
   "name": "python3"
  },
  "language_info": {
   "codemirror_mode": {
    "name": "ipython",
    "version": 3
   },
   "file_extension": ".py",
   "mimetype": "text/x-python",
   "name": "python",
   "nbconvert_exporter": "python",
   "pygments_lexer": "ipython3",
   "version": "3.8.10"
  }
 },
 "nbformat": 4,
 "nbformat_minor": 5
}
